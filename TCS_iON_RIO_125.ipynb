{
  "nbformat": 4,
  "nbformat_minor": 0,
  "metadata": {
    "colab": {
      "name": "TCS iON RIO-125.ipynb",
      "provenance": [],
      "collapsed_sections": [],
      "authorship_tag": "ABX9TyPMiYfO4pqbXEsfLA/dycax",
      "include_colab_link": true
    },
    "kernelspec": {
      "name": "python3",
      "display_name": "Python 3"
    }
  },
  "cells": [
    {
      "cell_type": "markdown",
      "metadata": {
        "id": "view-in-github",
        "colab_type": "text"
      },
      "source": [
        "<a href=\"https://colab.research.google.com/github/rushilg13/TCS-iON-RIO-125-Internship-Automate-identification-and-recognition-of-handwritten-text-from-an-image/blob/master/TCS_iON_RIO_125.ipynb\" target=\"_parent\"><img src=\"https://colab.research.google.com/assets/colab-badge.svg\" alt=\"Open In Colab\"/></a>"
      ]
    },
    {
      "cell_type": "markdown",
      "metadata": {
        "id": "D-Feqy8e54t6",
        "colab_type": "text"
      },
      "source": [
        " **Name:** Rushil Goel\n",
        "\n",
        "**Internship Project Topic:**Automate identification and recognition of handwritten text from an image.\n",
        "\n",
        "**Name of the Organization:** TCS iON\n",
        "\n",
        "**Name of the Industry Mentor:**Debashis Roy\n",
        "\n",
        "**Name of the Institute:**Vellore Institute of Technology"
      ]
    },
    {
      "cell_type": "code",
      "metadata": {
        "id": "4Mv54FGn5l9x",
        "colab_type": "code",
        "colab": {}
      },
      "source": [
        "!sudo add-apt-repository ppa:alex-p/tesseract-ocr"
      ],
      "execution_count": null,
      "outputs": []
    },
    {
      "cell_type": "code",
      "metadata": {
        "id": "T1vIW77M6GUZ",
        "colab_type": "code",
        "colab": {}
      },
      "source": [
        "!sudo apt-get update\n",
        "!sudo apt install tesseract-ocr\n",
        "!sudo apt install libtesseract-dev\n",
        "!sudo pip install pytesseract"
      ],
      "execution_count": null,
      "outputs": []
    },
    {
      "cell_type": "code",
      "metadata": {
        "id": "CGTwThEL6L7a",
        "colab_type": "code",
        "colab": {}
      },
      "source": [
        "#Checking the installation.\n",
        "!tesseract --version"
      ],
      "execution_count": null,
      "outputs": []
    },
    {
      "cell_type": "markdown",
      "metadata": {
        "id": "iCmNVzh76bkQ",
        "colab_type": "text"
      },
      "source": [
        " **Input Module:** This module saves the source image in the directory.\n",
        "\n",
        "  By simply mounting your Google Drive. It retrives the image from which the text is to be extracted."
      ]
    },
    {
      "cell_type": "code",
      "metadata": {
        "id": "AopMHppX6VBu",
        "colab_type": "code",
        "colab": {
          "base_uri": "https://localhost:8080/",
          "height": 34
        },
        "outputId": "6e55ed30-45ec-4818-9690-e841d976bd54"
      },
      "source": [
        "#Image Source Input Module \n",
        "from google.colab import drive\n",
        "\n",
        "drive.mount('/content/drive')\n",
        "\n",
        "filename = ('/content/drive/My Drive/test_img.png')"
      ],
      "execution_count": 4,
      "outputs": [
        {
          "output_type": "stream",
          "text": [
            "Drive already mounted at /content/drive; to attempt to forcibly remount, call drive.mount(\"/content/drive\", force_remount=True).\n"
          ],
          "name": "stdout"
        }
      ]
    },
    {
      "cell_type": "markdown",
      "metadata": {
        "id": "NR0pu9Pl62kx",
        "colab_type": "text"
      },
      "source": [
        "**image which can be used to test this project.**\n",
        "\n",
        "The drive path of image is mentioned by default in the Input Module \n",
        "![alt text](http://www.fki.inf.unibe.ch/DBs/iamDB/data/lines/g04/g04-060/g04-060-01.png)\n",
        "\n",
        "Taken from IAM Dataset. Link - http://www.fki.inf.unibe.ch/databases/iam-handwriting-database/download-the-iam-handwriting-database\n",
        "# A Sample image....\n",
        "\n",
        "**You can use this sample image or upload any suitable image to your google drive to test the application.**\n",
        "\n",
        "https://drive.google.com/drive/u/0/folders/128earGpqwtdtKZEmEUEoxevVHtZxlcdE"
      ]
    },
    {
      "cell_type": "code",
      "metadata": {
        "id": "9UKG0slY6ZpP",
        "colab_type": "code",
        "colab": {
          "base_uri": "https://localhost:8080/",
          "height": 134
        },
        "outputId": "25f1bc45-4db3-4dc0-caa4-7cafa35b54fc"
      },
      "source": [
        "import cv2\n",
        "import numpy as np\n",
        "import pytesseract\n",
        "from PIL import Image\n",
        "\n",
        "# Path of working folder on Disk\n",
        "\n",
        "def get_string(img_path):\n",
        "    # Read image with opencv\n",
        "    img = cv2.imread(img_path)\n",
        "\n",
        "    # Convert to gray\n",
        "    img = cv2.cvtColor(img, cv2.COLOR_BGR2GRAY)\n",
        "\n",
        "    # Apply dilation and erosion to remove some noise\n",
        "    kernel = np.ones((1, 1), np.uint8)\n",
        "    img = cv2.dilate(img, kernel, iterations=1)\n",
        "    img = cv2.erode(img, kernel, iterations=1)\n",
        "\n",
        "    # Write image after removed noise\n",
        "    cv2.imwrite(\"removed_noise.png\", img)\n",
        "\n",
        "    #  Apply threshold to get image with only black and white\n",
        "    \n",
        "\n",
        "    # Write the image after apply opencv to do some ...\n",
        "    cv2.imwrite(img_path, img)\n",
        "\n",
        "    # Recognize text with tesseract for python\n",
        "    result = pytesseract.image_to_string(Image.open(img_path))\n",
        "\n",
        "    # Remove template file\n",
        "    \n",
        "\n",
        "    return result\n",
        "\n",
        "\n",
        "print (\"______Automated identification and recognition of handwritten text from an image Started Successfully!______\")\n",
        "print (\"The Recognized Text From The Input Image IS: \\n\")\n",
        "\n",
        "print (get_string(filename))\n",
        "print (\"\\n\")\n",
        "print (\"_____Process Finished Successfully_______\")"
      ],
      "execution_count": 5,
      "outputs": [
        {
          "output_type": "stream",
          "text": [
            "______Automated identification and recognition of handwritten text from an image Started Successfully!______\n",
            "The Recognized Text From The Input Image IS: \n",
            "\n",
            "Lansdowne Rood district bul | needed wore help in the\n",
            "\n",
            "\n",
            "_____Process Finished Successfully_______\n"
          ],
          "name": "stdout"
        }
      ]
    },
    {
      "cell_type": "code",
      "metadata": {
        "id": "tgxjjhC9DRu9",
        "colab_type": "code",
        "colab": {}
      },
      "source": [
        ""
      ],
      "execution_count": null,
      "outputs": []
    }
  ]
}